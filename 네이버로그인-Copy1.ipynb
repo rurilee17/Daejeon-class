{
 "cells": [
  {
   "cell_type": "code",
   "execution_count": 25,
   "metadata": {},
   "outputs": [
    {
     "name": "stdout",
     "output_type": "stream",
     "text": [
      "Requirement already satisfied: selenium in c:\\users\\affinity\\anaconda3\\lib\\site-packages (3.141.0)\n",
      "Requirement already satisfied: urllib3 in c:\\users\\affinity\\anaconda3\\lib\\site-packages (from selenium) (1.24.1)\n"
     ]
    }
   ],
   "source": [
    "!pip install selenium\n",
    "from selenium import webdriver"
   ]
  },
  {
   "cell_type": "code",
   "execution_count": 26,
   "metadata": {},
   "outputs": [
    {
     "name": "stdout",
     "output_type": "stream",
     "text": [
      "Requirement already satisfied: webdriver-manager in c:\\users\\affinity\\anaconda3\\lib\\site-packages (1.8)\n",
      "Requirement already satisfied: crayons in c:\\users\\affinity\\anaconda3\\lib\\site-packages (from webdriver-manager) (0.2.0)\n",
      "Requirement already satisfied: configparser in c:\\users\\affinity\\anaconda3\\lib\\site-packages (from webdriver-manager) (3.7.4)\n",
      "Requirement already satisfied: requests in c:\\users\\affinity\\anaconda3\\lib\\site-packages (from webdriver-manager) (2.21.0)\n",
      "Requirement already satisfied: colorama in c:\\users\\affinity\\anaconda3\\lib\\site-packages (from crayons->webdriver-manager) (0.4.1)\n",
      "Requirement already satisfied: chardet<3.1.0,>=3.0.2 in c:\\users\\affinity\\anaconda3\\lib\\site-packages (from requests->webdriver-manager) (3.0.4)\n",
      "Requirement already satisfied: certifi>=2017.4.17 in c:\\users\\affinity\\anaconda3\\lib\\site-packages (from requests->webdriver-manager) (2019.3.9)\n",
      "Requirement already satisfied: idna<2.9,>=2.5 in c:\\users\\affinity\\anaconda3\\lib\\site-packages (from requests->webdriver-manager) (2.8)\n",
      "Requirement already satisfied: urllib3<1.25,>=1.21.1 in c:\\users\\affinity\\anaconda3\\lib\\site-packages (from requests->webdriver-manager) (1.24.1)\n",
      "\n",
      "Checking for win32 chromedriver:75.0.3770.90 in cache\n",
      "Driver found in C:\\Users\\Affinity\\.wdm\\chromedriver\\75.0.3770.90\\win32/chromedriver.exe\n"
     ]
    }
   ],
   "source": [
    "!pip install webdriver-manager\n",
    "from selenium import webdriver\n",
    "from webdriver_manager.chrome import ChromeDriverManager\n",
    "drive = webdriver.Chrome(ChromeDriverManager().install())"
   ]
  },
  {
   "cell_type": "code",
   "execution_count": 27,
   "metadata": {},
   "outputs": [],
   "source": [
    "drive.get('http://naver.com')"
   ]
  },
  {
   "cell_type": "code",
   "execution_count": 28,
   "metadata": {},
   "outputs": [],
   "source": [
    "login_btn1=drive.find_element_by_css_selector('#account > div > a > i')"
   ]
  },
  {
   "cell_type": "code",
   "execution_count": 29,
   "metadata": {},
   "outputs": [],
   "source": [
    "login_btn1.click()"
   ]
  },
  {
   "cell_type": "code",
   "execution_count": 30,
   "metadata": {},
   "outputs": [],
   "source": [
    "naver_id = drive.find_element_by_id('id')\n",
    "pw = drive.find_element_by_id('pw')"
   ]
  },
  {
   "cell_type": "code",
   "execution_count": 31,
   "metadata": {},
   "outputs": [],
   "source": [
    "naver_id.send_keys('rurilee17')\n",
    "pw.send_keys('')"
   ]
  },
  {
   "cell_type": "code",
   "execution_count": 32,
   "metadata": {},
   "outputs": [],
   "source": [
    "login_btn2 = drive.find_element_by_css_selector('#frmNIDLogin > fieldset > input')\n",
    "login_btn2.click()"
   ]
  },
  {
   "cell_type": "code",
   "execution_count": null,
   "metadata": {},
   "outputs": [],
   "source": []
  }
 ],
 "metadata": {
  "kernelspec": {
   "display_name": "Python 3",
   "language": "python",
   "name": "python3"
  },
  "language_info": {
   "codemirror_mode": {
    "name": "ipython",
    "version": 3
   },
   "file_extension": ".py",
   "mimetype": "text/x-python",
   "name": "python",
   "nbconvert_exporter": "python",
   "pygments_lexer": "ipython3",
   "version": "3.7.3"
  }
 },
 "nbformat": 4,
 "nbformat_minor": 2
}
